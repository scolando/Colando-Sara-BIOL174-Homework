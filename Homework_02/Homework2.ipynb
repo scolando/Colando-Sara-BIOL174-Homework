{
 "cells": [
  {
   "cell_type": "markdown",
   "id": "3857cc8e-f087-4c16-89af-84a61eb18132",
   "metadata": {},
   "source": [
    "# BIOL174: Homework 2\n",
    "\n",
    "In this homework, I will some of my content from the first homework about between-sample ChIP-Seq normalization methods and their technical conditions/assumptions.\n",
    "\n",
    "## Background\n",
    "\n",
    "Watch this video for relevant background on how ChIP-Seq data is collected and (generally-speaking) how it is analyzed for *differential binding analysis*"
   ]
  },
  {
   "cell_type": "code",
   "execution_count": 235,
   "id": "133f61dd-4585-4df2-86b8-99f7e780d2cb",
   "metadata": {},
   "outputs": [
    {
     "data": {
      "text/html": [
       "<center>\n",
       "<iframe width=\"500\" height=\"300\"\n",
       " src=\"https://www.youtube.com/embed/nkWGmaYRues?si=geUDp3WHOFCJ-8R1mute=0\"\n",
       "</iframe>\n",
       "</center>\n"
      ],
      "text/plain": [
       "<IPython.core.display.HTML object>"
      ]
     },
     "metadata": {},
     "output_type": "display_data"
    }
   ],
   "source": [
    "%%HTML\n",
    "<center>\n",
    "<iframe width=\"500\" height=\"300\"\n",
    " src=\"https://www.youtube.com/embed/nkWGmaYRues?si=geUDp3WHOFCJ-8R1mute=0\"\n",
    "</iframe>\n",
    "</center>"
   ]
  },
  {
   "cell_type": "markdown",
   "id": "c8c0cfbb-53fc-44bf-b8fa-42610d055d01",
   "metadata": {},
   "source": [
    "## Example\n",
    "\n",
    "Let's now walk through an example to demonstrate the effects of violating the technical conditions of between-sample ChIP-Seq normalization methods. *Suppose we had the following data:*\n",
    "\n",
    "\n"
   ]
  },
  {
   "cell_type": "markdown",
   "id": "11028bc3-f7b7-4716-a3f5-4acd672dbe6b",
   "metadata": {},
   "source": [
    "| Peak   |      DNA-Protein Binding Condition A      |  DNA-Protein Binding Condition B |\n",
    "|:----------:|:-------------:|:------:|\n",
    "| 1 | 2 | 2 |\n",
    "| 2 |    2   |  2  |\n",
    "| 3 | 2 |  4  |"
   ]
  },
  {
   "cell_type": "markdown",
   "id": "2a4bcb1c-1158-4e46-a15b-4b930d5940a7",
   "metadata": {},
   "source": [
    "![Example](oneOverExpressedGene.png)"
   ]
  },
  {
   "cell_type": "markdown",
   "id": "9ffdd1de-ea4b-4b9d-bddd-0ea7f3bb8223",
   "metadata": {},
   "source": [
    "Since Peak 3 in Figure 1 is differentially bound, the read counts for Peaks 1 and 2 in Condition B are lower than they are in Condition A, even though the two peaks have the same amount of <em>true</em> DNA-protein binding. \n",
    "\n",
    "As a result, when we normalize between-samples using total count, this difference in reads coming from one peak being differentially bound (i.e., up-regulated in in Condition B) is not corrected. In turn, it looks like Peak 1 and 2 are both differentially bound/up-regulated in Condition A, even though that is not the case.\n",
    "\n",
    "As we see in Figure 1 (d), correct normalization would make the normalized read count in Peak 1 and 2 the same across Condition A and B, leaving only Peak 3 as the only peak that would be classified as differentially bound. \n",
    "\n",
    "Therefore, it is important for us to understand the assumptions made by between-sample normalization methods, like total count normalization, to control the false discovery rate/make accurate biological conclusions from our differential binding analysis.\n",
    "\n",
    "## SVG Drawing\n",
    "\n",
    "Just because..."
   ]
  },
  {
   "cell_type": "code",
   "execution_count": 229,
   "id": "149130d7-f2ad-4a3b-a3ef-7a84b1d3d0ed",
   "metadata": {},
   "outputs": [
    {
     "data": {
      "image/svg+xml": [
       "<svg xmlns=\"http://www.w3.org/2000/svg\" xmlns:xlink=\"http://www.w3.org/1999/xlink\" width=\"500\" height=\"400\">\n",
       "# adding sun\n",
       "<circle cx=\"440\" cy=\"70\" r=\"100\" stroke=\"black\" stroke-width=\"1\" fill=\"yellow\"/>\n",
       "\n",
       "# adding heads \n",
       "<circle cx=\"350\" cy=\"300\" r=\"20\" stroke=\"black\" stroke-width=\"1\"/>\n",
       "<circle cx=\"275\" cy=\"300\" r=\"20\" stroke=\"black\" stroke-width=\"1\"/>\n",
       "\n",
       "#adding bodies/spines\n",
       "<line x1=\"350\" y1=\"300\" x2=\"350\" y2=\"375\" stroke=\"black\" stroke-width=\"2\"/>\n",
       "<line x1=\"275\" y1=\"300\" x2=\"275\" y2=\"375\" stroke=\"black\" stroke-width=\"2\"/>\n",
       "\n",
       "# adding legs\n",
       "<line x1=\"300\" y1=\"400\" x2=\"275\" y2=\"375\" stroke=\"black\" stroke-width=\"2\"/>\n",
       "<line x1=\"250\" y1=\"400\" x2=\"275\" y2=\"375\" stroke=\"black\" stroke-width=\"2\"/>\n",
       "<line x1=\"325\" y1=\"400\" x2=\"350\" y2=\"375\" stroke=\"black\" stroke-width=\"2\"/>\n",
       "<line x1=\"375\" y1=\"400\" x2=\"350\" y2=\"375\" stroke=\"black\" stroke-width=\"2\"/>\n",
       "\n",
       "# adding arms\n",
       "<line x1=\"300\" y1=\"325\" x2=\"275\" y2=\"350\" stroke=\"black\" stroke-width=\"2\"/>\n",
       "<line x1=\"250\" y1=\"325\" x2=\"275\" y2=\"350\" stroke=\"black\" stroke-width=\"2\"/>\n",
       "<line x1=\"325\" y1=\"325\" x2=\"350\" y2=\"350\" stroke=\"black\" stroke-width=\"2\"/>\n",
       "<line x1=\"375\" y1=\"325\" x2=\"350\" y2=\"350\" stroke=\"black\" stroke-width=\"2\"/>\n",
       "\n",
       "# adding house box\n",
       "<rect width=\"200\" height=\"300\" x=\"0\" y=\"200\" stroke=\"black\" fill=\"blue\"/>\n",
       "<rect width=\"50\" height=\"150\" x=\"50\" y=\"300\" stroke=\"black\" fill=\"orange\"/>\n",
       "<rect width=\"50\" height=\"50\" x=\"125\" y=\"250\" stroke=\"black\" fill=\"orange\"/>\n",
       "\n",
       "# adding roof\n",
       "<polygon points=\"200,200 100,100 0,200\" stroke=\"black\" fill=\"green\"/>\n",
       "</svg>"
      ],
      "text/plain": [
       "<IPython.core.display.SVG object>"
      ]
     },
     "metadata": {},
     "output_type": "display_data"
    }
   ],
   "source": [
    "%%SVG\n",
    "<svg width=\"500\" height=\"400\" xmlns=\"http://www.w3.org/2000/svg\"\n",
    "xmlns:xlink=\"http://www.w3.org/1999/xlink\">\n",
    "# adding sun\n",
    "<circle cx=\"440\" cy=\"70\" r=\"100\" stroke=\"black\" stroke-width=\"1\" fill=\"yellow\" />\n",
    "\n",
    "# adding heads \n",
    "<circle cx=\"350\" cy=\"300\" r=\"20\" stroke=\"black\" stroke-width=\"1\" />\n",
    "<circle cx=\"275\" cy=\"300\" r=\"20\" stroke=\"black\" stroke-width=\"1\" />\n",
    "\n",
    "#adding bodies/spines\n",
    "<line x1=\"350\" y1=\"300\" x2=\"350\" y2=\"375\" stroke=\"black\" stroke-width=\"2\" />\n",
    "<line x1=\"275\" y1=\"300\" x2=\"275\" y2=\"375\" stroke=\"black\" stroke-width=\"2\" />\n",
    "\n",
    "# adding legs\n",
    "<line x1=\"300\" y1=\"400\" x2=\"275\" y2=\"375\" stroke=\"black\" stroke-width=\"2\" />\n",
    "<line x1=\"250\" y1=\"400\" x2=\"275\" y2=\"375\" stroke=\"black\" stroke-width=\"2\" />\n",
    "<line x1=\"325\" y1=\"400\" x2=\"350\" y2=\"375\" stroke=\"black\" stroke-width=\"2\" />\n",
    "<line x1=\"375\" y1=\"400\" x2=\"350\" y2=\"375\" stroke=\"black\" stroke-width=\"2\" />\n",
    "\n",
    "# adding arms\n",
    "<line x1=\"300\" y1=\"325\" x2=\"275\" y2=\"350\" stroke=\"black\" stroke-width=\"2\" />\n",
    "<line x1=\"250\" y1=\"325\" x2=\"275\" y2=\"350\" stroke=\"black\" stroke-width=\"2\" />\n",
    "<line x1=\"325\" y1=\"325\" x2=\"350\" y2=\"350\" stroke=\"black\" stroke-width=\"2\" />\n",
    "<line x1=\"375\" y1=\"325\" x2=\"350\" y2=\"350\" stroke=\"black\" stroke-width=\"2\" />\n",
    "\n",
    "# adding house box\n",
    "<rect width=\"200\" height=\"300\" x=\"0\" y=\"200\" stroke=\"black\" fill=\"blue\" />\n",
    "<rect width=\"50\" height=\"150\" x=\"50\" y=\"300\" stroke=\"black\" fill=\"orange\" />\n",
    "<rect width=\"50\" height=\"50\" x=\"125\" y=\"250\" stroke=\"black\" fill=\"orange\" />\n",
    "\n",
    "# adding roof\n",
    "<polygon points=\"200,200 100,100 0,200\" stroke=\"black\" fill=\"green\" />\n",
    "</svg>"
   ]
  }
 ],
 "metadata": {
  "kernelspec": {
   "display_name": "Python 3 (ipykernel)",
   "language": "python",
   "name": "python3"
  },
  "language_info": {
   "codemirror_mode": {
    "name": "ipython",
    "version": 3
   },
   "file_extension": ".py",
   "mimetype": "text/x-python",
   "name": "python",
   "nbconvert_exporter": "python",
   "pygments_lexer": "ipython3",
   "version": "3.11.7"
  }
 },
 "nbformat": 4,
 "nbformat_minor": 5
}
