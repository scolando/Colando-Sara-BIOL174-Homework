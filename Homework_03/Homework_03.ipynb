{
 "cells": [
  {
   "cell_type": "markdown",
   "metadata": {},
   "source": [
    "# Homework 3:\n",
    "\n",
    "Do these exercises individually. You should use this ipython notebook and for each question you should have one code cell with you answer. Copy this notebook to your individual local repository in a directory called \"Homework_03\" and when you are done push the changes and sync with your github repository. If any of the questions need a separate file to be read by your program, add it to the same directory and make sure to push the file as well.\n",
    "\n",
    "A lot of these exercises are from this webpage: http://www.ling.gu.se/~lager/python_exercises.html. There are answers to these exercises online. Please do not copy the answers, you can search online for ideas but avoid using the text of the question on google.\n",
    "\n",
    "PLEASE DO NOT USE GITHUB CO-PILOT.\n",
    "\n",
    "For each question write the requested function and then call the function with the requested arguments. For example, if the question asks you to write a function called \"add\" that adds two numbers and then call the function with the arguments 2 and 3, you would write:\n",
    "\n",
    "```python \n",
    "def add(a,b):\n",
    "    return a+b\n",
    "\n",
    "add(2,3)\n",
    "```"
   ]
  },
  {
   "cell_type": "markdown",
   "metadata": {},
   "source": [
    "__Exercise 1.__ Write a Python function that asks the user for the radius of a circle and computes the area of the circle. Call the function with different values for the radius."
   ]
  },
  {
   "cell_type": "code",
   "execution_count": 4,
   "metadata": {},
   "outputs": [
    {
     "data": {
      "text/plain": [
       "3.141592653589793"
      ]
     },
     "execution_count": 4,
     "metadata": {},
     "output_type": "execute_result"
    }
   ],
   "source": [
    "import math\n",
    "\n",
    "def area(r):\n",
    "    return math.pi * r**2\n",
    "\n",
    "\n",
    "area(2)\n",
    "area(4.7)\n",
    "area(1)"
   ]
  },
  {
   "cell_type": "markdown",
   "metadata": {},
   "source": [
    "__Exercise 2.__ Write a Python function that receives a filename, and returns the extension of the file. Examples:\n",
    "\n",
    "* **test.txt**, extension is txt\n",
    "* **notebook.ipynb**, extension is ipynb\n",
    "* **case.1.txt**, extension is txt\n",
    "* **item.1.2.a.doc**, extension is doc\n",
    "* **file**, no extension, your program should return something saying that there is no extension\n",
    "\n",
    "Call your function with the filenames above and return the extension."
   ]
  },
  {
   "cell_type": "code",
   "execution_count": 1,
   "metadata": {},
   "outputs": [
    {
     "ename": "TypeError",
     "evalue": "expected str, bytes or os.PathLike object, not list",
     "output_type": "error",
     "traceback": [
      "\u001b[0;31m---------------------------------------------------------------------------\u001b[0m",
      "\u001b[0;31mTypeError\u001b[0m                                 Traceback (most recent call last)",
      "Cell \u001b[0;32mIn[1], line 13\u001b[0m\n\u001b[1;32m      9\u001b[0m     \u001b[38;5;28;01melse\u001b[39;00m:\n\u001b[1;32m     10\u001b[0m         \u001b[38;5;28mprint\u001b[39m(\u001b[38;5;124m\"\u001b[39m\u001b[38;5;124mthere is no extension\u001b[39m\u001b[38;5;124m\"\u001b[39m)\n\u001b[0;32m---> 13\u001b[0m extension([\u001b[38;5;124m\"\u001b[39m\u001b[38;5;124mtest.txt\u001b[39m\u001b[38;5;124m\"\u001b[39m, \u001b[38;5;124m\"\u001b[39m\u001b[38;5;124mfile\u001b[39m\u001b[38;5;124m\"\u001b[39m])\n",
      "Cell \u001b[0;32mIn[1], line 5\u001b[0m, in \u001b[0;36mextension\u001b[0;34m(filename)\u001b[0m\n\u001b[1;32m      4\u001b[0m \u001b[38;5;28;01mdef\u001b[39;00m \u001b[38;5;21mextension\u001b[39m(filename):\n\u001b[0;32m----> 5\u001b[0m     \u001b[38;5;28;01mif\u001b[39;00m os\u001b[38;5;241m.\u001b[39mpath\u001b[38;5;241m.\u001b[39msplitext(filename)[\u001b[38;5;241m1\u001b[39m] \u001b[38;5;241m!=\u001b[39m \u001b[38;5;124m'\u001b[39m\u001b[38;5;124m'\u001b[39m:\n\u001b[1;32m      6\u001b[0m         file_extension \u001b[38;5;241m=\u001b[39m os\u001b[38;5;241m.\u001b[39mpath\u001b[38;5;241m.\u001b[39msplitext(filename)[\u001b[38;5;241m1\u001b[39m]\n\u001b[1;32m      7\u001b[0m         file_extension \u001b[38;5;241m=\u001b[39m re\u001b[38;5;241m.\u001b[39msub(\u001b[38;5;124m\"\u001b[39m\u001b[38;5;124m\\\u001b[39m\u001b[38;5;124m.\u001b[39m\u001b[38;5;124m\"\u001b[39m, \u001b[38;5;124m\"\u001b[39m\u001b[38;5;124m\"\u001b[39m, file_extension)\n",
      "File \u001b[0;32m<frozen posixpath>:118\u001b[0m, in \u001b[0;36msplitext\u001b[0;34m(p)\u001b[0m\n",
      "\u001b[0;31mTypeError\u001b[0m: expected str, bytes or os.PathLike object, not list"
     ]
    }
   ],
   "source": [
    "import os\n",
    "import re\n",
    "\n",
    "def extension(filename):\n",
    "    if os.path.splitext(filename)[1] != '':\n",
    "        file_extension = os.path.splitext(filename)[1]\n",
    "        file_extension = re.sub(\"\\.\", \"\", file_extension)\n",
    "        print(\"extension is \" + file_extension)\n",
    "    else:\n",
    "        print(\"there is no extension\")"
   ]
  },
  {
   "cell_type": "markdown",
   "metadata": {},
   "source": [
    "__Exercise 3.__ Write a Python function that takes two points (in the form X, Y) and computes the euclidian distance between the two points. In other words, given two points (x1,y1) and (x2, y2), return the distance between the points, given by:\n",
    "\n",
    "$$\n",
    "\\begin{equation*} d=\\sqrt{(x_2-x_1)^2+(y_2-y_1)^2} \\end{equation*}\n",
    "$$\n",
    "\n",
    "Call your function with some points to test that it works."
   ]
  },
  {
   "cell_type": "code",
   "execution_count": 12,
   "metadata": {},
   "outputs": [],
   "source": [
    "import math\n",
    "\n",
    "def dist(p1, p2):\n",
    "    x1, y1, = p1\n",
    "    x2, y2 = p2\n",
    "    dist = math.sqrt((x2 - x1)**2 + (y2 - y1)**2)\n",
    "    return(dist)"
   ]
  },
  {
   "cell_type": "markdown",
   "metadata": {},
   "source": [
    "__Exercise 4.__ Create a function called `max_in_list()` that takes a list of numbers of any length and returns the largest one without using python's builtin `max()`. Your program should work for any numbers, including negative numbers. \n",
    "\n",
    "Call your function with different lists of numbers (including negative numbers) and show that it works."
   ]
  },
  {
   "cell_type": "code",
   "execution_count": 14,
   "metadata": {},
   "outputs": [
    {
     "data": {
      "text/plain": [
       "47"
      ]
     },
     "execution_count": 14,
     "metadata": {},
     "output_type": "execute_result"
    }
   ],
   "source": [
    "def max_in_list(list):\n",
    "    max = float(\"-inf\") \n",
    "    for item in list:\n",
    "        if item > max:\n",
    "            max = item\n",
    "    return(max)\n",
    "\n",
    "max_in_list([-1,-2,-3, 10, 47])"
   ]
  },
  {
   "cell_type": "markdown",
   "metadata": {},
   "source": [
    "__Exercise 5.__ Write a **function** `translate()` that will translate a text into pig Latin. According to wikipedia here are the rules for pig latin:\n",
    "\n",
    "1. For words that begin with consonant sounds, all letters before the initial vowel are placed at the end of the word sequence. Then, \"ay\" (some people just add \"a\") is added, as in the following examples:\n",
    "  * pig → igpay\n",
    "  * banana → ananabay\n",
    "  * trash → ashtray\n",
    "  * happy → appyhay\n",
    "2. For words which begin with vowel sounds or silent letter, one just adds \"yay\" to the end. Examples are:\n",
    "  * eat → eatyay\n",
    "  * omelet → omeletyay\n",
    "\n",
    "You do not need to worry about special characters or punctuation. Just remove those from the string.\n",
    "\n",
    "Call your function with the following string:\n",
    "\n",
    "```\n",
    "Hello. My name is Andre. \n",
    "```\n",
    "\n",
    "It should return:\n",
    "\n",
    "```\n",
    "ellohay ymay amenay isyay andreyay \n",
    "```"
   ]
  },
  {
   "cell_type": "code",
   "execution_count": 15,
   "metadata": {},
   "outputs": [
    {
     "name": "stdout",
     "output_type": "stream",
     "text": [
      "ellohay ymay amenay isyay andreyay\n"
     ]
    }
   ],
   "source": [
    "import re\n",
    "\n",
    "vowels = [\"a\", \"e\", \"i\", \"o\", \"u\", \"y\"]\n",
    "def translate(sentence):\n",
    "    words = sentence.split()\n",
    "    translation = []\n",
    "    \n",
    "    for word in words:\n",
    "        word = word.lower()\n",
    "        word = re.sub(\"\\W\", '', word)\n",
    "        \n",
    "        for i in range(len(word)):\n",
    "            if word[0] in vowels:\n",
    "                translation.append(word + \"yay\")\n",
    "                break\n",
    "            else:\n",
    "                if word[i] in vowels:\n",
    "                    translation.append(word[i:] + word[:i] + \"ay\")\n",
    "                    break\n",
    "    \n",
    "    translated_sentence = \" \".join(translation)\n",
    "    print(translated_sentence)\n",
    "\n",
    "translate(\"Hello. My name is Andre.\")"
   ]
  },
  {
   "cell_type": "markdown",
   "metadata": {},
   "source": [
    "__Exercise 6.__  Palindromes are words or phrases that read the same when written backwards.Create a **function** `is_palindrome()` that receives a string variable and determines if it is a palindrome. \n",
    "\n",
    "The function should return true or false, and should ignore punctuation, capitalization, and spacing.\n",
    "\n",
    "Test your function with some palindromes and non-palindromes. Here are some palindromes:\n",
    "\n",
    "```\n",
    "\"Go hang a salami I'm a lasagna hog.\", \n",
    "\"Was it a rat I saw?\", \n",
    "\"Step on no pets\", \n",
    "\"Sit on a potato pan, Otis\", \n",
    "\"Satan, oscillate my metallic sonatas\", \n",
    "\"Rise to vote sir\", \n",
    "\"Dammit, I'm mad!\"\n",
    "```"
   ]
  },
  {
   "cell_type": "code",
   "execution_count": 5,
   "metadata": {},
   "outputs": [
    {
     "data": {
      "text/plain": [
       "True"
      ]
     },
     "execution_count": 5,
     "metadata": {},
     "output_type": "execute_result"
    }
   ],
   "source": [
    "import re\n",
    "\n",
    "def is_palindrome(string):\n",
    "        string = string.lower()\n",
    "        string = re.sub(\"\\W\", '', string)\n",
    "        return string[::-1] == string\n",
    "        \n",
    "is_palindrome(\"Dammit, I'm mad!\")"
   ]
  },
  {
   "cell_type": "markdown",
   "metadata": {},
   "source": [
    "__Exercise 7.__ Write a function that receives a file name, opens the file, reads each line, and uses the `is_palindrome()` function from the previous exercise to print the line to the screen if it is a palindrome.\n",
    "\n",
    "Test the function with the `palindromes.txt` file in the current directory. When given this file, your program should output:\n",
    "\n",
    "```\n",
    "was it a rat i saw?!?\n",
    "Are we not drawn onward, we few, drawn onward to new era?\n",
    "A man, a plan, a canal - Panama\n",
    "Never odd or even\n",
    "aviva\n",
    "```"
   ]
  },
  {
   "cell_type": "code",
   "execution_count": 7,
   "metadata": {},
   "outputs": [
    {
     "name": "stdout",
     "output_type": "stream",
     "text": [
      "was it a rat i saw?!?\n",
      "Are we not drawn onward, we few, drawn onward to new era?\n",
      "A man, a plan, a canal - Panama\n",
      "Never odd or even\n",
      "aviva\n"
     ]
    }
   ],
   "source": [
    "import re \n",
    "\n",
    "def palindrome_file(filename):\n",
    "    with open(filename) as file:\n",
    "        for line in file:\n",
    "            line = line.strip()\n",
    "            if is_palindrome(line):\n",
    "                print(line)\n",
    "                \n",
    "palindrome_file(\"palindromes.txt\")"
   ]
  },
  {
   "cell_type": "markdown",
   "metadata": {},
   "source": [
    "__Exercise 8.__ According to Wikipedia, a semordnilap is a word or phrase that spells a different word or phrase backwards. (\"Semordnilap\" is itself \"palindromes\" spelled backwards.) Write a semordnilap recogniser function that accepts a file name from the user for a file containing a list of words, one per line. The function will read the file and find and print all pairs of words that are semordnilaps to the screen. \n",
    "\n",
    "For example, if \"stressed\" and \"desserts\" are part of the word list, the output should include the pair \"stressed desserts\". Note, by the way, that each pair by itself forms a palindrome. But it should output each pair only once, so if the program output \"stressed desserts\" it should not output \"desserts stressed\".\n",
    "\n",
    "You can test your function using the file: `semordnilap.txt`. It should return:\n",
    "\n",
    "```\n",
    "desserts stressed\n",
    "Semordnilap palindromes\n",
    "```"
   ]
  },
  {
   "cell_type": "code",
   "execution_count": 107,
   "metadata": {},
   "outputs": [
    {
     "name": "stdout",
     "output_type": "stream",
     "text": [
      "['desserts', 'teapot', 'pottea', 'hello', 'aviva', 'racecar ', 'stressed', 'devin', 'Semordnilap', 'palindromes', 'this', 'is', 'just', 'filling', 'to', 'see', 'if', 'your', 'program', 'works']\n",
      "[('desserts', 'stressed')]\n",
      "[('desserts', 'stressed')]\n",
      "[('desserts', 'stressed')]\n",
      "[('desserts', 'stressed')]\n",
      "[('desserts', 'stressed'), ('aviva', 'aviva')]\n",
      "[('desserts', 'stressed'), ('aviva', 'aviva')]\n",
      "[('desserts', 'stressed'), ('aviva', 'aviva'), ('stressed', 'desserts')]\n",
      "[('desserts', 'stressed'), ('aviva', 'aviva'), ('stressed', 'desserts')]\n",
      "[('desserts', 'stressed'), ('aviva', 'aviva'), ('stressed', 'desserts'), ('semordnilap', 'palindromes')]\n",
      "[('desserts', 'stressed'), ('aviva', 'aviva'), ('stressed', 'desserts'), ('semordnilap', 'palindromes')]\n",
      "[('desserts', 'stressed'), ('aviva', 'aviva'), ('stressed', 'desserts'), ('semordnilap', 'palindromes')]\n",
      "[('desserts', 'stressed'), ('aviva', 'aviva'), ('stressed', 'desserts'), ('semordnilap', 'palindromes')]\n",
      "[('desserts', 'stressed'), ('aviva', 'aviva'), ('stressed', 'desserts'), ('semordnilap', 'palindromes')]\n",
      "[('desserts', 'stressed'), ('aviva', 'aviva'), ('stressed', 'desserts'), ('semordnilap', 'palindromes')]\n",
      "[('desserts', 'stressed'), ('aviva', 'aviva'), ('stressed', 'desserts'), ('semordnilap', 'palindromes')]\n",
      "[('desserts', 'stressed'), ('aviva', 'aviva'), ('stressed', 'desserts'), ('semordnilap', 'palindromes')]\n",
      "[('desserts', 'stressed'), ('aviva', 'aviva'), ('stressed', 'desserts'), ('semordnilap', 'palindromes')]\n",
      "[('desserts', 'stressed'), ('aviva', 'aviva'), ('stressed', 'desserts'), ('semordnilap', 'palindromes')]\n",
      "[('desserts', 'stressed'), ('aviva', 'aviva'), ('stressed', 'desserts'), ('semordnilap', 'palindromes')]\n",
      "[('desserts', 'stressed'), ('aviva', 'aviva'), ('stressed', 'desserts'), ('semordnilap', 'palindromes')]\n"
     ]
    }
   ],
   "source": [
    "def semordnilap_file(filename):\n",
    "    semordnilaps = []\n",
    "    with open(filename) as file:\n",
    "        words = file.read().splitlines()\n",
    "        print(words)\n",
    "        for word in words:\n",
    "            word = word.lower()\n",
    "            reversed_word = word[::-1]\n",
    "            if reversed_word in words:\n",
    "                semordnilaps.append((word, reversed_word))\n",
    "            print(semordnilaps)\n",
    "\n",
    "semordnilap_file(\"semordnilap.txt\")"
   ]
  },
  {
   "cell_type": "markdown",
   "metadata": {},
   "source": [
    "__Exercise 9.__ Write a function that asks for a filename, reads all the words in the file, calculates the average word length and creates a histogram of words length. \n",
    "\n",
    "A histogram shows how many times you encountered a word of a given size. \n",
    "The output of the program should look like:\n",
    "\n",
    "```\n",
    "The file: filename contains X words, the average length of the words is: Y.\n",
    "Histogram of the word sizes:\n",
    "1: ***********\n",
    "2: ********\n",
    "3: *************\n",
    "4: *********\n",
    "....\n",
    "```\n",
    "\n",
    "I'll test using this file: `text.txt`. Your output should be:\n",
    "\n",
    "```\n",
    "The file text.txt contains 69 words, with an average word length of 5. Histogram of the word sizes:\n",
    "1: \n",
    "2: *************\n",
    "3: *****\n",
    "4: ***********\n",
    "5: **********\n",
    "6: *********\n",
    "7: ********\n",
    "8: ****\n",
    "9: ****\n",
    "10: **\n",
    "11: *\n",
    "12: *\n",
    "13: *\n",
    "```\n",
    "\n",
    "To do this, you need to find the size of each word, and then count all words of size 1, size 2, etc. Each ```*``` in each row in your histogram represents one occurrence of a word of that size."
   ]
  },
  {
   "cell_type": "code",
   "execution_count": 114,
   "metadata": {},
   "outputs": [
    {
     "name": "stdout",
     "output_type": "stream",
     "text": [
      "The file contains 69 words, the average word length is: 5. Histogram of the word sizes:\n",
      "1: \n",
      "2: *************\n",
      "3: *****\n",
      "4: *********\n",
      "5: ************\n",
      "6: *******\n",
      "7: *********\n",
      "8: ***\n",
      "9: *****\n",
      "10: ***\n",
      "11: *\n",
      "12: *\n",
      "13: *\n"
     ]
    }
   ],
   "source": [
    "def word_histogram(filename):\n",
    "    \n",
    "    m_dict = {}\n",
    "    total_word_length = 0\n",
    "    \n",
    "    with open(filename) as file:\n",
    "        words = file.read().split()\n",
    "        \n",
    "        for word in words:\n",
    "            total_word_length += len(word)\n",
    "            word_length = len(word)\n",
    "            \n",
    "            if word_length in m_dict.keys():\n",
    "                m_dict[word_length]+= 1\n",
    "                \n",
    "            else:\n",
    "                m_dict[word_length] =1\n",
    "        \n",
    "        for word_length in range(1,min(m_dict.keys())):\n",
    "            m_dict[word_length] = 0\n",
    "            \n",
    "        # average word length\n",
    "        average_word_length = round(total_word_length / len(words))\n",
    "        \n",
    "        print(\"The file contains \" + str(len(words)) + \" words, the average word length is: \" \n",
    "              + str(average_word_length) + \". Histogram of the word sizes:\")\n",
    "       \n",
    "        # histogram component\n",
    "        for word_length in sorted(m_dict.keys()):\n",
    "            print(f'{word_length}: {\"*\"*m_dict[word_length]}')\n",
    "\n",
    "word_histogram(\"text.txt\")"
   ]
  },
  {
   "cell_type": "markdown",
   "metadata": {},
   "source": [
    "__Exercise 10.__ Write a program able to play the \"Guess the number\" game, where the number to be guessed is randomly chosen between 1 and 20. This is how it should work when run:\n",
    "\n",
    "```\n",
    "Hello! What is your name?\n",
    "  Andre\n",
    "Well, Andre, I am thinking of a number between 1 and 20.\n",
    "Take a guess.\n",
    "  10\n",
    "Your guess is too low.\n",
    "Take a guess.\n",
    "  15\n",
    "Your guess is too low.\n",
    "Take a guess.\n",
    "  18\n",
    "Good job, Andre! You guessed my number in 3 guesses!\n",
    "```"
   ]
  },
  {
   "cell_type": "code",
   "execution_count": null,
   "metadata": {
    "collapsed": true,
    "jupyter": {
     "outputs_hidden": true
    }
   },
   "outputs": [],
   "source": [
    "import random \n",
    "\n",
    "num = random.randint(1,20)\n",
    "guess = None\n",
    "guess_number = 0\n",
    "\n",
    "name = input(\"Hello! What is your name? \")\n",
    "print(\"Well, \" + name + \", I am thinking of a number between 1 and 20.\")\n",
    "\n",
    "while guess != num:\n",
    "    guess = input(\"Take a guess. \")\n",
    "    guess = int(guess)\n",
    "    guess_number = guess_number + 1\n",
    "    \n",
    "    if guess < num:\n",
    "        print(\"Your guess is too low. \")\n",
    "        \n",
    "    elif guess > num:\n",
    "        print(\"Your guess is too high. \")\n",
    "   \n",
    "    elif guess == num & guess_number == 1:\n",
    "        print(\"Holy Cow, \" + name + \"! You guessed my number on the first try!\")\n",
    "        \n",
    "    else: \n",
    "        print(\"Good Job, \" + name + \"! You guessed my number in \" + str(guess_number) + \" guesses!\")"
   ]
  }
 ],
 "metadata": {
  "anaconda-cloud": {},
  "kernelspec": {
   "display_name": "Python 3 (ipykernel)",
   "language": "python",
   "name": "python3"
  },
  "language_info": {
   "codemirror_mode": {
    "name": "ipython",
    "version": 3
   },
   "file_extension": ".py",
   "mimetype": "text/x-python",
   "name": "python",
   "nbconvert_exporter": "python",
   "pygments_lexer": "ipython3",
   "version": "3.11.7"
  }
 },
 "nbformat": 4,
 "nbformat_minor": 4
}
